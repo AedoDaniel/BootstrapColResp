{
  "nbformat": 4,
  "nbformat_minor": 0,
  "metadata": {
    "colab": {
      "provenance": [],
      "authorship_tag": "ABX9TyN+Yxf3SPi6HQFckx7kvfNU",
      "include_colab_link": true
    },
    "kernelspec": {
      "name": "python3",
      "display_name": "Python 3"
    },
    "language_info": {
      "name": "python"
    }
  },
  "cells": [
    {
      "cell_type": "markdown",
      "metadata": {
        "id": "view-in-github",
        "colab_type": "text"
      },
      "source": [
        "<a href=\"https://colab.research.google.com/github/AedoDaniel/BootstrapColResp/blob/master/Curso_python.ipynb\" target=\"_parent\"><img src=\"https://colab.research.google.com/assets/colab-badge.svg\" alt=\"Open In Colab\"/></a>"
      ]
    },
    {
      "cell_type": "code",
      "execution_count": 3,
      "metadata": {
        "id": "IvjT4odNwkOV",
        "colab": {
          "base_uri": "https://localhost:8080/"
        },
        "outputId": "6a2f2227-d066-4647-ae3b-6d978649c4d8"
      },
      "outputs": [
        {
          "output_type": "stream",
          "name": "stdout",
          "text": [
            "Introduce tu nombre Daniel\n",
            "HolaDaniel\n"
          ]
        }
      ],
      "source": [
        "nombre = input(\"Introduce tu nombre \")\n",
        "print('Hola' + nombre)"
      ]
    },
    {
      "cell_type": "code",
      "source": [
        "edad = input(\"Introduce tu edad \")\n",
        "print(f'Hola, {nombre}!. Tienes {edad} años')"
      ],
      "metadata": {
        "colab": {
          "base_uri": "https://localhost:8080/"
        },
        "id": "8j4i0BIzlRPb",
        "outputId": "d1a0d18c-7471-4f2c-dee7-c3522f097ddb"
      },
      "execution_count": 4,
      "outputs": [
        {
          "output_type": "stream",
          "name": "stdout",
          "text": [
            "Introduce tu edad 35\n",
            "Hola, Daniel!. Tienes 35 años\n"
          ]
        }
      ]
    },
    {
      "cell_type": "code",
      "source": [
        "a = 'Matilda'\n",
        "b = 'Aedo'\n",
        "print(a + ' ' + b)"
      ],
      "metadata": {
        "colab": {
          "base_uri": "https://localhost:8080/"
        },
        "id": "mNCWBCGzmUfP",
        "outputId": "6151be5a-09e8-4ff5-9167-fb44461a3789"
      },
      "execution_count": 5,
      "outputs": [
        {
          "output_type": "stream",
          "name": "stdout",
          "text": [
            "Matilda Aedo\n"
          ]
        }
      ]
    },
    {
      "cell_type": "code",
      "source": [
        "#Precio del artículo\n",
        "precio_articulo = float(input(\"Ingrese el precio del articulo: \"))\n",
        "\n",
        "#cantidad de articulos que comprara\n",
        "cantidad_articulos = int(input(\"Ingrese la cantidad de articulos que desea comprar: \"))\n",
        "\n",
        "#descuento\n",
        "porcentaje_descuento = float(input(\"Ingrese el porcentaje de descuento: \"))\n",
        "\n",
        "#calcular el total a pagar\n",
        "descuento = precio_articulo * (porcentaje_descuento / 100)\n",
        "total_pagar = (precio_articulo - descuento) * cantidad_articulos\n",
        "\n",
        "#mostrar el total a pagar\n",
        "print(f\"El total a pagar es de {total_pagar:.2f} pesos\")"
      ],
      "metadata": {
        "colab": {
          "base_uri": "https://localhost:8080/"
        },
        "id": "AHCj7UKupJO0",
        "outputId": "61207a77-35c1-4ad4-e488-444d3169a8e0"
      },
      "execution_count": 14,
      "outputs": [
        {
          "output_type": "stream",
          "name": "stdout",
          "text": [
            "Ingrese el precio del articulo: 100\n",
            "Ingrese la cantidad de articulos que desea comprar: 0\n",
            "Ingrese el porcentaje de descuento: 0\n",
            "El total a pagar es de 0.00 pesos\n"
          ]
        }
      ]
    },
    {
      "cell_type": "code",
      "source": [
        "mi_lista = [\"cerveza\", \"Pisco\", \"Gin\", \"Vodka\"]\n",
        "print(mi_lista[0])\n",
        "mi_lista.append(\"Tequila\")\n",
        "print(mi_lista)"
      ],
      "metadata": {
        "colab": {
          "base_uri": "https://localhost:8080/"
        },
        "id": "q6fkAhHbszqQ",
        "outputId": "82b231d7-1a1c-4fbd-e4b4-90b8b2a66001"
      },
      "execution_count": 20,
      "outputs": [
        {
          "output_type": "stream",
          "name": "stdout",
          "text": [
            "cerveza\n",
            "['cerveza', 'Pisco', 'Gin', 'Vodka', 'Tequila']\n"
          ]
        }
      ]
    },
    {
      "cell_type": "code",
      "source": [
        "mi_diccionario = {\"nombre\": \"Daniel\", \"edad\": 35, \"ciudad\": \"Frutillar\"}\n",
        "print(mi_diccionario[\"nombre\"])\n",
        "mi_diccionario[\"profesión\"] = \"Ingeniero en Informática\"\n",
        "print(mi_diccionario[\"profesión\"])\n",
        "mi_diccionario['telefono'] = \"+56987615800\"\n",
        "print(mi_diccionario.get('telefono', 'No disponible'))"
      ],
      "metadata": {
        "colab": {
          "base_uri": "https://localhost:8080/"
        },
        "id": "7QmSL_H7tMQ_",
        "outputId": "5a20dbb1-6bb9-472a-af65-697a14e6a80a"
      },
      "execution_count": 22,
      "outputs": [
        {
          "output_type": "stream",
          "name": "stdout",
          "text": [
            "Daniel\n",
            "Ingeniero en Informática\n",
            "+56987615800\n"
          ]
        }
      ]
    },
    {
      "cell_type": "code",
      "source": [
        "import random\n",
        "numero_aleatorio = random.randint(1, 10)\n",
        "print(f'El numero aleatorio es {numero_aleatorio}')\n",
        "num_decimal_aleatorio = random.random()\n",
        "print(\"el num decimal aleatorio es:\", num_decimal_aleatorio)"
      ],
      "metadata": {
        "colab": {
          "base_uri": "https://localhost:8080/"
        },
        "id": "8yFP6LrOrY29",
        "outputId": "bcaa0aa5-4055-4a47-aa4f-79206dd45667"
      },
      "execution_count": 24,
      "outputs": [
        {
          "output_type": "stream",
          "name": "stdout",
          "text": [
            "El numero aleatorio es 4\n",
            "el num decimal aleatorio es: 0.40820384826251466\n"
          ]
        }
      ]
    }
  ]
}